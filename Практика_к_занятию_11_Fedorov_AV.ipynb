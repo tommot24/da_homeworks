{
 "cells": [
  {
   "cell_type": "markdown",
   "metadata": {
    "id": "pDrecLU-4QjS"
   },
   "source": [
    "# Практика"
   ]
  },
  {
   "cell_type": "markdown",
   "metadata": {
    "id": "gUvTNDlMaV-a"
   },
   "source": [
    "## Определение вероятности. События\n",
    "\n",
    "Требуется сгенерировать необходимые выборки и произвести по ним расчеты"
   ]
  },
  {
   "cell_type": "markdown",
   "metadata": {
    "id": "5V70InEBTgup"
   },
   "source": [
    "### Задача 1\n",
    "Брошено две монеты. Найти вероятность того, что монеты выпали разными сторонами"
   ]
  },
  {
   "cell_type": "code",
   "execution_count": 78,
   "metadata": {
    "ExecuteTime": {
     "end_time": "2022-07-27T12:18:09.957576Z",
     "start_time": "2022-07-27T12:18:09.951709Z"
    }
   },
   "outputs": [],
   "source": [
    "from itertools import product, combinations\n",
    "import pandas as pd\n",
    "import numpy as np\n",
    "import scipy.stats as sts\n",
    "import matplotlib.pyplot as plt\n",
    "import seaborn as sns\n",
    "# эмпирическая функция распределения случайной величины\n",
    "from statsmodels.distributions.empirical_distribution import ECDF"
   ]
  },
  {
   "cell_type": "code",
   "execution_count": 7,
   "metadata": {
    "ExecuteTime": {
     "end_time": "2022-07-27T10:54:47.460719Z",
     "start_time": "2022-07-27T10:54:47.448500Z"
    }
   },
   "outputs": [],
   "source": [
    "n = 100000 # количество экспериментов для всех задач"
   ]
  },
  {
   "cell_type": "code",
   "execution_count": 8,
   "metadata": {
    "ExecuteTime": {
     "end_time": "2022-07-27T10:54:48.496287Z",
     "start_time": "2022-07-27T10:54:48.480734Z"
    },
    "id": "88Iw-SL3jYQV"
   },
   "outputs": [
    {
     "name": "stdout",
     "output_type": "stream",
     "text": [
      "Вероятность того, что монеты выпали разными сторонами: 0.49917\n"
     ]
    }
   ],
   "source": [
    "outcomes1 = np.random.randint(0, 2, size=n)\n",
    "outcomes2 = np.random.randint(0, 2, size=n)\n",
    "result = (outcomes1 != outcomes2).sum() / n\n",
    "print(f'Вероятность того, что монеты выпали разными сторонами: {result}')"
   ]
  },
  {
   "cell_type": "markdown",
   "metadata": {
    "id": "t0XOMos2Tl0e"
   },
   "source": [
    "### Задача 2\n",
    "Брошено три монеты. Описать множество всех элементарных событий. Найти вероятности следующих событий:\n",
    "\n",
    "\n",
    "1.   A = {не выпало ни одного герба}\n",
    "2.   B = {выпало четное число гербов}\n",
    "3.   C = {на третьей монете выпал герб}\n"
   ]
  },
  {
   "cell_type": "code",
   "execution_count": 18,
   "metadata": {
    "ExecuteTime": {
     "end_time": "2022-07-27T10:57:56.936154Z",
     "start_time": "2022-07-27T10:57:56.747160Z"
    },
    "id": "o7NjAE9uUo-L"
   },
   "outputs": [
    {
     "name": "stdout",
     "output_type": "stream",
     "text": [
      "Всего элементарных исходов - 8, вероятность элементарного  исхода - 0.125\n"
     ]
    }
   ],
   "source": [
    "coin1 = np.random.randint(0, 2, size=n) # 1 - орел(герб), 0 - решка\n",
    "coin2 = np.random.randint(0, 2, size=n)\n",
    "coin3 = np.random.randint(0, 2, size=n)\n",
    "print(f'Всего элементарных исходов - {2**3}, вероятность элементарного  исхода - {1/8}')\n",
    "df2 = pd.DataFrame(zip(coin1, coin2, coin3))"
   ]
  },
  {
   "cell_type": "code",
   "execution_count": 19,
   "metadata": {
    "ExecuteTime": {
     "end_time": "2022-07-27T10:57:58.328856Z",
     "start_time": "2022-07-27T10:57:58.294921Z"
    }
   },
   "outputs": [
    {
     "name": "stdout",
     "output_type": "stream",
     "text": [
      "Вероятность того, что не выпало ни одного герба - 0.1249\n",
      "Вероятность того, что выпало четное число гербов (0, 2) - 0.4980\n",
      "Вероятность того, что на третьей монете выпал герб - 0.5037\n"
     ]
    }
   ],
   "source": [
    "A = np.sum(df2.sum(axis=1) == 3) / n\n",
    "print(f'Вероятность того, что не выпало ни одного герба - {A:.4f}')\n",
    "\n",
    "B = A + np.sum(df2.sum(axis=1) == 1) / n #четное число гербов это 0 и 2\n",
    "print(f'Вероятность того, что выпало четное число гербов (0, 2) - {B:.4f}')\n",
    "\n",
    "C = np.sum(df2[2] == 0) / n\n",
    "print(f'Вероятность того, что на третьей монете выпал герб - {C:.4f}')"
   ]
  },
  {
   "cell_type": "markdown",
   "metadata": {},
   "source": [
    "Предлагается также решить задачи: \n",
    "\n",
    "### Задача 3\n",
    "Из двух претендентов E и L на ответственную должность три члена комиссии должны отобрать одного. Каждый член комиссии должен указать либо одного достойного, либо забраковать обоих. Претендент считается выбранным, если он был признана достойным хотя бы двумя членами комиссии.\n",
    "Найти вероятность событий:\n",
    "\n",
    "A = {рекомендован L}, B = {рекомендован E}\n"
   ]
  },
  {
   "cell_type": "code",
   "execution_count": 20,
   "metadata": {
    "ExecuteTime": {
     "end_time": "2022-07-27T10:58:01.870863Z",
     "start_time": "2022-07-27T10:58:01.664984Z"
    }
   },
   "outputs": [],
   "source": [
    "elements = ['E', 'L', 0]\n",
    "probs = [1/3, 1/3, 1/3]\n",
    "member1 = np.random.choice(elements, p=probs, size=n)\n",
    "member2 = np.random.choice(elements, p=probs, size=n)\n",
    "member3 = np.random.choice(elements, p=probs, size=n)\n",
    "df3 = pd.DataFrame(zip(member1, member2, member3))"
   ]
  },
  {
   "cell_type": "code",
   "execution_count": 21,
   "metadata": {
    "ExecuteTime": {
     "end_time": "2022-07-27T10:58:03.642257Z",
     "start_time": "2022-07-27T10:58:03.384993Z"
    }
   },
   "outputs": [
    {
     "name": "stdout",
     "output_type": "stream",
     "text": [
      "Вероятность того, что рекомендован кандидат L - 0.2595\n",
      "Вероятность того, что рекомендован кандидат E - 0.2602\n",
      "\n",
      "В обоих случаях теоритическая вероятность = 0.2593\n"
     ]
    }
   ],
   "source": [
    "A3 = np.sum((df3 == 'L').sum(axis=1) > 1) / n\n",
    "print(f'Вероятность того, что рекомендован кандидат L - {A3:.4f}')\n",
    "\n",
    "B3 = np.sum((df3 == 'E').sum(axis=1) > 1) / n\n",
    "print(f'Вероятность того, что рекомендован кандидат E - {B3:.4f}')\n",
    "\n",
    "print(f'\\nВ обоих случаях теоритическая вероятность = {7/27:.4f}')"
   ]
  },
  {
   "cell_type": "markdown",
   "metadata": {
    "id": "peM38mVfYa5B"
   },
   "source": [
    "### Задача 4\n",
    "Брошено две игральных кости. Описать множество элементарных событий. Найти вероятности событий:\n",
    "\n",
    "A = {вышло две \"шестерки\"}\n",
    "\n",
    "B = {сумма выпавших очков не меньше 11}\n",
    "\n",
    "C = {не выпала ни одна \"шестерка\"}"
   ]
  },
  {
   "cell_type": "code",
   "execution_count": 22,
   "metadata": {
    "ExecuteTime": {
     "end_time": "2022-07-27T10:58:09.474054Z",
     "start_time": "2022-07-27T10:58:09.335311Z"
    }
   },
   "outputs": [
    {
     "name": "stdout",
     "output_type": "stream",
     "text": [
      "Всего элементарных исходов - 36, вероятность элементарного  исхода - 0.0278\n"
     ]
    }
   ],
   "source": [
    "dice1 = np.random.randint(1, 7, size=n)\n",
    "dice2 = np.random.randint(1, 7, size=n)\n",
    "df4 = pd.DataFrame(zip(dice1, dice2))\n",
    "print(f'Всего элементарных исходов - {6**2}, вероятность элементарного  исхода - {1/36:.4f}')"
   ]
  },
  {
   "cell_type": "code",
   "execution_count": 23,
   "metadata": {
    "ExecuteTime": {
     "end_time": "2022-07-27T10:58:10.527306Z",
     "start_time": "2022-07-27T10:58:10.494778Z"
    }
   },
   "outputs": [
    {
     "name": "stdout",
     "output_type": "stream",
     "text": [
      "Вероятность того, что вышло две \"шестерки\" - 0.0283\n",
      "Вероятность того, что сумма выпавших очков не меньше 11 - 0.0832\n",
      "Вероятность того, что не выпала ни одна \"шестерка\" - 0.6945\n"
     ]
    }
   ],
   "source": [
    "A4 = np.sum((df4 == 6).sum(axis=1) == 2) / n\n",
    "print(f'Вероятность того, что вышло две \"шестерки\" - {A4:.4f}')\n",
    "\n",
    "B4 = np.sum(df4.sum(axis=1) > 10) / n\n",
    "print(f'Вероятность того, что сумма выпавших очков не меньше 11 - {B4:.4f}')\n",
    "\n",
    "C4 = np.sum((df4 == 6).sum(axis=1) == 0) / n\n",
    "print(f'Вероятность того, что не выпала ни одна \"шестерка\" - {C4:.4f}')"
   ]
  },
  {
   "cell_type": "markdown",
   "metadata": {
    "id": "f-Bi0p8haclB"
   },
   "source": [
    "## Вероятность суммы событий"
   ]
  },
  {
   "cell_type": "markdown",
   "metadata": {
    "id": "g7A7QlvGTnwZ"
   },
   "source": [
    "### Задача 5\n",
    "Брошены две игральные кости. Найти вероятность события D = {выпала хотя бы одна шестёрка}\n"
   ]
  },
  {
   "cell_type": "code",
   "execution_count": 24,
   "metadata": {
    "ExecuteTime": {
     "end_time": "2022-07-27T10:58:13.707259Z",
     "start_time": "2022-07-27T10:58:13.693628Z"
    },
    "id": "vjtTJN-kUp9D"
   },
   "outputs": [
    {
     "name": "stdout",
     "output_type": "stream",
     "text": [
      "Вероятность того, что выпала хотя бы одна шестёрка - 0.3055\n"
     ]
    }
   ],
   "source": [
    "D5 = np.sum((df4 == 6).sum(axis=1) > 0) / n\n",
    "print(f'Вероятность того, что выпала хотя бы одна шестёрка - {D5:.4f}')"
   ]
  },
  {
   "cell_type": "markdown",
   "metadata": {
    "id": "R1bYSzQQbC6I"
   },
   "source": [
    "Предлагается также решить задачи: \n",
    "\n",
    "### Задача 6\n",
    "В телефонном номере три последние цифры стерлись. Считая, что все возможные значения стершихся цифр равновероятны, найти вероятность событий:\n",
    "\n",
    "A = {Стерлись различные цифры},\n",
    "\n",
    "B = {Стерлись одинаковые цифры},\n",
    "\n",
    "C = {Среди стершихся цифр хотя бы две совпадают},\n",
    "\n",
    "D = {Среди стершихся цифр хотя бы две различны}\n"
   ]
  },
  {
   "cell_type": "code",
   "execution_count": 25,
   "metadata": {
    "ExecuteTime": {
     "end_time": "2022-07-27T10:58:17.341848Z",
     "start_time": "2022-07-27T10:58:17.109089Z"
    }
   },
   "outputs": [
    {
     "name": "stdout",
     "output_type": "stream",
     "text": [
      "Вероятность, что среди стершихся все три различные цифры - 0.7208\n",
      "Вероятность, что среди стершихся все три одинаковые цифры - 0.0094\n",
      "Вероятность, что среди стершихся цифр хотя бы две совпадают - 0.2792\n",
      "Вероятность, что среди стершихся цифр хотя бы две различны - 0.9906\n"
     ]
    }
   ],
   "source": [
    "digit1 = np.random.randint(0, 10, size = n)\n",
    "digit2 = np.random.randint(0, 10, size = n)\n",
    "digit3 = np.random.randint(0, 10, size = n)\n",
    "df6 = pd.DataFrame(zip(digit1, digit2, digit3))\n",
    "\n",
    "A6 = np.sum((df6[0] != df6[1]) & (df6[1] != df6[2]) & (df6[0] != df6[2])) / n\n",
    "df6['A6'] = (df6[0] != df6[1]) & (df6[1] != df6[2]) & (df6[0] != df6[2])\n",
    "print(f'Вероятность, что среди стершихся все три различные цифры - {A6:.4f}')\n",
    "# ------------------------------------------------------------------------------\n",
    "B6 = np.sum((df6[0] == df6[1]) & (df6[1] == df6[2])) / n\n",
    "df6['B6'] = (df6[0] == df6[1]) & (df6[1] == df6[2])\n",
    "print(f'Вероятность, что среди стершихся все три одинаковые цифры - {B6:.4f}')\n",
    "# ------------------------------------------------------------------------------\n",
    "C6  = np.sum((df6[0] == df6[1]) | (df6[0] == df6[2]) | (df6[1] == df6[2])) / n\n",
    "df6['C6'] = (df6[0] == df6[1]) | (df6[0] == df6[2]) | (df6[1] == df6[2])\n",
    "print(f'Вероятность, что среди стершихся цифр хотя бы две совпадают - {C6:.4f}')\n",
    "# ------------------------------------------------------------------------------\n",
    "D6 = np.sum((df6[0] != df6[1]) | (df6[0] != df6[2]) | (df6[1] != df6[2])) / n\n",
    "df6['D6'] = (df6[0] != df6[1]) | (df6[0] != df6[2]) | (df6[1] != df6[2])\n",
    "print(f'Вероятность, что среди стершихся цифр хотя бы две различны - {D6:.4f}')"
   ]
  },
  {
   "cell_type": "code",
   "execution_count": 28,
   "metadata": {
    "ExecuteTime": {
     "end_time": "2022-07-27T10:58:38.541943Z",
     "start_time": "2022-07-27T10:58:38.511311Z"
    }
   },
   "outputs": [
    {
     "data": {
      "text/html": [
       "<div>\n",
       "<style scoped>\n",
       "    .dataframe tbody tr th:only-of-type {\n",
       "        vertical-align: middle;\n",
       "    }\n",
       "\n",
       "    .dataframe tbody tr th {\n",
       "        vertical-align: top;\n",
       "    }\n",
       "\n",
       "    .dataframe thead th {\n",
       "        text-align: right;\n",
       "    }\n",
       "</style>\n",
       "<table border=\"1\" class=\"dataframe\">\n",
       "  <thead>\n",
       "    <tr style=\"text-align: right;\">\n",
       "      <th></th>\n",
       "      <th>0</th>\n",
       "      <th>1</th>\n",
       "      <th>2</th>\n",
       "      <th>A6</th>\n",
       "      <th>B6</th>\n",
       "      <th>C6</th>\n",
       "      <th>D6</th>\n",
       "    </tr>\n",
       "  </thead>\n",
       "  <tbody>\n",
       "    <tr>\n",
       "      <th>6748</th>\n",
       "      <td>4</td>\n",
       "      <td>3</td>\n",
       "      <td>7</td>\n",
       "      <td>True</td>\n",
       "      <td>False</td>\n",
       "      <td>False</td>\n",
       "      <td>True</td>\n",
       "    </tr>\n",
       "    <tr>\n",
       "      <th>20512</th>\n",
       "      <td>2</td>\n",
       "      <td>8</td>\n",
       "      <td>5</td>\n",
       "      <td>True</td>\n",
       "      <td>False</td>\n",
       "      <td>False</td>\n",
       "      <td>True</td>\n",
       "    </tr>\n",
       "    <tr>\n",
       "      <th>53922</th>\n",
       "      <td>1</td>\n",
       "      <td>0</td>\n",
       "      <td>6</td>\n",
       "      <td>True</td>\n",
       "      <td>False</td>\n",
       "      <td>False</td>\n",
       "      <td>True</td>\n",
       "    </tr>\n",
       "    <tr>\n",
       "      <th>33418</th>\n",
       "      <td>5</td>\n",
       "      <td>7</td>\n",
       "      <td>7</td>\n",
       "      <td>False</td>\n",
       "      <td>False</td>\n",
       "      <td>True</td>\n",
       "      <td>True</td>\n",
       "    </tr>\n",
       "    <tr>\n",
       "      <th>62445</th>\n",
       "      <td>7</td>\n",
       "      <td>9</td>\n",
       "      <td>8</td>\n",
       "      <td>True</td>\n",
       "      <td>False</td>\n",
       "      <td>False</td>\n",
       "      <td>True</td>\n",
       "    </tr>\n",
       "  </tbody>\n",
       "</table>\n",
       "</div>"
      ],
      "text/plain": [
       "       0  1  2     A6     B6     C6    D6\n",
       "6748   4  3  7   True  False  False  True\n",
       "20512  2  8  5   True  False  False  True\n",
       "53922  1  0  6   True  False  False  True\n",
       "33418  5  7  7  False  False   True  True\n",
       "62445  7  9  8   True  False  False  True"
      ]
     },
     "execution_count": 28,
     "metadata": {},
     "output_type": "execute_result"
    }
   ],
   "source": [
    "df6.sample(5)"
   ]
  },
  {
   "cell_type": "markdown",
   "metadata": {
    "id": "RnugkR8BalK_"
   },
   "source": [
    "## Случайные величины"
   ]
  },
  {
   "cell_type": "markdown",
   "metadata": {
    "id": "yLoZDZ17UVsp"
   },
   "source": [
    "### Задача 7\n",
    "В лотерее имеется 10 билетов, из которых один выигрышный. Размер выигрыша 10 ден. ед.; стоимость билета 1 ден ед. Найти закон распределения случайной величины X, равной чистому выигрышу участника лотереи, который вытаскивает билет первым."
   ]
  },
  {
   "cell_type": "code",
   "execution_count": 81,
   "metadata": {
    "ExecuteTime": {
     "end_time": "2022-07-27T12:19:50.517463Z",
     "start_time": "2022-07-27T12:19:50.161011Z"
    },
    "id": "oNk432sKUqzT"
   },
   "outputs": [
    {
     "data": {
      "image/png": "[encoded data removed]",
      "text/plain": [
       "<Figure size 432x288 with 1 Axes>"
      ]
     },
     "metadata": {
      "needs_background": "light"
     },
     "output_type": "display_data"
    },
    {
     "data": {
      "image/png": "[encoded data removed]",
      "text/plain": [
       "<Figure size 432x216 with 1 Axes>"
      ]
     },
     "metadata": {
      "needs_background": "light"
     },
     "output_type": "display_data"
    }
   ],
   "source": [
    "tickets = [-1]*9 + [9] # создаем массив с суммами\n",
    "\n",
    "X7 = np.random.choice(tickets, size=n) # n-раз вытаскиваем билет\n",
    "df7 = pd.DataFrame(X7)\n",
    "df7.hist()\n",
    "plt.title('Гистограмма частоты появления выигрыша')\n",
    "plt.xlabel('сумма выигрыша')\n",
    "plt.ylabel('частота появления')\n",
    "plt.show()\n",
    "\n",
    "ecdf7 = ECDF(X7) \n",
    "\n",
    "\n",
    "plt.figure(figsize=(6, 3))\n",
    "plt.plot(ecdf7.x, ecdf7.y, label='ECDF')\n",
    "plt.title('Функция распределения выигрыша')\n",
    "plt.ylabel('cdf')\n",
    "plt.xlabel('$X$')\n",
    "plt.legend(loc='lower right')\n",
    "\n",
    "plt.show()"
   ]
  },
  {
   "cell_type": "markdown",
   "metadata": {
    "id": "U-NK9liSbpvb"
   },
   "source": [
    "Предлагается также решить задачу: \n",
    "\n",
    "### Задача 8\n",
    "Брошены две игральные кости. Найти закон распределения случайной величины $X$, равной сумме выпавших очков. Найти вероятности событий ${X <= 4}$, ${X > 4}$"
   ]
  },
  {
   "cell_type": "code",
   "execution_count": 88,
   "metadata": {
    "ExecuteTime": {
     "end_time": "2022-07-27T12:26:29.706787Z",
     "start_time": "2022-07-27T12:26:29.316250Z"
    }
   },
   "outputs": [
    {
     "data": {
      "image/png": "[encoded data removed]",
      "text/plain": [
       "<Figure size 432x288 with 1 Axes>"
      ]
     },
     "metadata": {
      "needs_background": "light"
     },
     "output_type": "display_data"
    },
    {
     "data": {
      "text/plain": [
       "Text(0.5, 0, '$X$')"
      ]
     },
     "execution_count": 88,
     "metadata": {},
     "output_type": "execute_result"
    },
    {
     "data": {
      "image/png": "[encoded data removed]",
      "text/plain": [
       "<Figure size 432x288 with 1 Axes>"
      ]
     },
     "metadata": {
      "needs_background": "light"
     },
     "output_type": "display_data"
    }
   ],
   "source": [
    "dice1 = np.random.randint(1, 7, size=n)\n",
    "dice2 = np.random.randint(1, 7, size=n)\n",
    "X8 = dice1 + dice2\n",
    "pd.DataFrame(X8).hist()\n",
    "plt.title('Частота распределения суммы очков')\n",
    "plt.show()\n",
    "\n",
    "ecdf8 = ECDF(X8)\n",
    "plt.plot(ecdf8.x, ecdf8.y, label='ECDF')\n",
    "plt.title('Функция распределения суммы очков')\n",
    "plt.ylabel('cdf')\n",
    "plt.xlabel('$X$')"
   ]
  },
  {
   "cell_type": "markdown",
   "metadata": {
    "id": "shgW4D83awjK"
   },
   "source": [
    "## Условные вероятности"
   ]
  },
  {
   "cell_type": "markdown",
   "metadata": {
    "id": "Fbu1RFZwWZrk"
   },
   "source": [
    "### Задача 9\n",
    "Из колоды (36 карт) вынимают последовательно без возвращения две карты. Найти вероятность того, что первой картой была шестерка, а второй — семерка. Найти условную вероятность того же события при условии, что обе карты бубновой масти.\n"
   ]
  },
  {
   "cell_type": "code",
   "execution_count": 89,
   "metadata": {
    "ExecuteTime": {
     "end_time": "2022-07-27T12:26:57.806112Z",
     "start_time": "2022-07-27T12:26:54.766705Z"
    },
    "id": "037o56awW9-E"
   },
   "outputs": [
    {
     "name": "stdout",
     "output_type": "stream",
     "text": [
      "Вероятность того, что первой картой была шестерка, а второй — семерка = 0.01215\n",
      "A9 при условии, что обе карты бубновой масти = 0.00079\n"
     ]
    }
   ],
   "source": [
    "suits = 'cdhs' # масти\n",
    "ranks = '6789TJQKA' # ранги\n",
    "\n",
    "# создаем колоду из 36 карт\n",
    "deck = [''.join(card) for card in product(ranks, suits)]\n",
    "\n",
    "# выбираем 2 карты без возвращения n раз\n",
    "# медленный способ, пришлось использовать цикл :-(\n",
    "df9 = pd.DataFrame(np.random.choice(deck, 2, replace=False) for _ in range(n))\n",
    "\n",
    "# для упрощения фильтрации датафрейма разобьем карту на масть и ранг\n",
    "df9['card1_rank'], df9['card1_suit'] = df9[0].str[0], df9[0].str[1]\n",
    "df9['card2_rank'], df9['card2_suit'] = df9[1].str[0], df9[1].str[1]\n",
    "\n",
    "cond1 = (df9['card1_rank'] == '6') # условие, что первой картой была шестерка\n",
    "cond2 = (df9['card2_rank'] == '7') # условие, что второй картой была семерка\n",
    "cond3 = (df9['card1_suit'] == 'd') & (df9['card2_suit'] == 'd') # условие, что обе карты бубновой масти\n",
    "\n",
    "A9 = np.sum(cond1 & cond2) / n\n",
    "print(f'Вероятность того, что первой картой была шестерка, а второй — семерка = {A9:.5f}')\n",
    "B9 = np.sum(cond1 & cond2 & cond3) / n # A9 при условии, что обе карты бубновой масти\n",
    "print(f'A9 при условии, что обе карты бубновой масти = {B9:.5f}')"
   ]
  },
  {
   "cell_type": "markdown",
   "metadata": {
    "id": "hNVxtaz5c57b"
   },
   "source": [
    "Предлагается также решить задачу: \n",
    "\n",
    "### Задача 10\n",
    "Из урны, содержащей два белых и три черных шара, последовательно извлекают два шара; вынутые шары не возвращаются. Если первый шар оказался черным, то перед вторым извлечением в урну добавляют белый шар. В противном случае состав оставшихся шаров не меняют. Найти вероятности событий:\n",
    "\n",
    "$A$ = {извлечены два белых шара},\n",
    "\n",
    "$B$ = {извлечены два черных шара}\n",
    "\n",
    "Указание. Пусть событие $C_1$ = {первый шар белый}, событие $C_2$ = {второй шар белый}. Тогда $A = C_1C_2$, $B = \\overline C_1 \\overline C_2$ "
   ]
  },
  {
   "cell_type": "code",
   "execution_count": 90,
   "metadata": {
    "ExecuteTime": {
     "end_time": "2022-07-27T12:27:04.387711Z",
     "start_time": "2022-07-27T12:27:00.973882Z"
    }
   },
   "outputs": [
    {
     "name": "stdout",
     "output_type": "stream",
     "text": [
      "Вероятность, что извлечены два белых шара - 0.1007\n",
      "Вероятность, что извлечены два черных шара - 0.2401\n"
     ]
    }
   ],
   "source": [
    "# моделируем урны: начальную - urn1\n",
    "# и после того как вынули первый черный шар - urn2\n",
    "urn1 = ['w']*2 + ['b']*3\n",
    "urn2 = ['w']*3 + ['b']*2\n",
    "\n",
    "# эксперимент1 - вытаскиваем 2 шара из урны первого типа n раз\n",
    "choice1 = pd.DataFrame(map(lambda a: np.random.choice(urn1, size=2, replace=False),\n",
    "                           range(n)), columns=['ball1', 'ball2'])\n",
    "\n",
    "A10 = np.sum((choice1['ball1'] == 'w') & (choice1['ball2'] == 'w')) / n\n",
    "print(f'Вероятность, что извлечены два белых шара - {A10:.4f}')\n",
    "\n",
    "# определяем номера экспериментов, где первый шар - черный\n",
    "change_balls = choice1.query('ball1 == \"b\"').index\n",
    "\n",
    "# выбираем 1 шар из второй урны (с замененным шаром),\n",
    "# размером равным количеству первых черных шаров в первой выборке\n",
    "choice2 = pd.DataFrame(map(lambda a: np.random.choice(urn2), range(len(change_balls))), columns=['ball2'])\n",
    "choice2.set_index(change_balls, inplace=True)\n",
    "\n",
    "# заменяем второй шар из первого эксперимента, шаром из второго\n",
    "# в тех экспериментах первой выборки, где первый шар - черный\n",
    "choice1.loc[change_balls, 'ball2'] = choice2['ball2']\n",
    "\n",
    "B10 = np.sum((choice1['ball1'] == 'b') & (choice1['ball2'] == 'b')) / n\n",
    "print(f'Вероятность, что извлечены два черных шара - {B10:.4f}')"
   ]
  }
 ],
 "metadata": {
  "colab": {
   "collapsed_sections": [],
   "name": "Практика к занятию 11.ipynb",
   "provenance": []
  },
  "kernelspec": {
   "display_name": "Python 3",
   "language": "python",
   "name": "python3"
  },
  "language_info": {
   "codemirror_mode": {
    "name": "ipython",
    "version": 3
   },
   "file_extension": ".py",
   "mimetype": "text/x-python",
   "name": "python",
   "nbconvert_exporter": "python",
   "pygments_lexer": "ipython3",
   "version": "3.7.6"
  },
  "nbTranslate": {
   "displayLangs": [
    "ru",
    "en"
   ],
   "hotkey": "alt-t",
   "langInMainMenu": true,
   "sourceLang": "en",
   "targetLang": "ru",
   "useGoogleTranslate": true
  },
  "toc": {
   "base_numbering": 1,
   "nav_menu": {},
   "number_sections": true,
   "sideBar": true,
   "skip_h1_title": false,
   "title_cell": "Table of Contents",
   "title_sidebar": "Contents",
   "toc_cell": false,
   "toc_position": {},
   "toc_section_display": true,
   "toc_window_display": false
  },
  "varInspector": {
   "cols": {
    "lenName": 16,
    "lenType": 16,
    "lenVar": 40
   },
   "kernels_config": {
    "python": {
     "delete_cmd_postfix": "",
     "delete_cmd_prefix": "del ",
     "library": "var_list.py",
     "varRefreshCmd": "print(var_dic_list())"
    },
    "r": {
     "delete_cmd_postfix": ") ",
     "delete_cmd_prefix": "rm(",
     "library": "var_list.r",
     "varRefreshCmd": "cat(var_dic_list()) "
    }
   },
   "types_to_exclude": [
    "module",
    "function",
    "builtin_function_or_method",
    "instance",
    "_Feature"
   ],
   "window_display": false
  }
 },
 "nbformat": 4,
 "nbformat_minor": 1
}
