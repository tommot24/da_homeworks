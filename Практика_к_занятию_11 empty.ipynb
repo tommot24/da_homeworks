{
 "cells": [
  {
   "cell_type": "markdown",
   "metadata": {
    "id": "pDrecLU-4QjS"
   },
   "source": [
    "# Практика"
   ]
  },
  {
   "cell_type": "markdown",
   "metadata": {
    "id": "gUvTNDlMaV-a"
   },
   "source": [
    "## Определение вероятности. События\n",
    "\n",
    "Требуется сгенерировать необходимые выборки и произвести по ним расчеты"
   ]
  },
  {
   "cell_type": "markdown",
   "metadata": {
    "id": "5V70InEBTgup"
   },
   "source": [
    "### Задача 1\n",
    "Брошено две монеты. Найти вероятность того, что монеты выпали разными сторонами"
   ]
  },
  {
   "cell_type": "code",
   "execution_count": 1,
   "metadata": {
    "ExecuteTime": {
     "end_time": "2022-07-24T17:19:22.204292Z",
     "start_time": "2022-07-24T17:19:20.325117Z"
    }
   },
   "outputs": [],
   "source": [
    "from itertools import product\n",
    "import pandas as pd\n",
    "import numpy as np\n",
    "import scipy.stats as sts\n",
    "import matplotlib.pyplot as plt"
   ]
  },
  {
   "cell_type": "code",
   "execution_count": 167,
   "metadata": {
    "ExecuteTime": {
     "end_time": "2022-07-21T15:21:36.346723Z",
     "start_time": "2022-07-21T15:21:36.334687Z"
    }
   },
   "outputs": [],
   "source": [
    "from itertools import combinations"
   ]
  },
  {
   "cell_type": "code",
   "execution_count": 135,
   "metadata": {
    "ExecuteTime": {
     "end_time": "2022-07-21T15:04:17.831197Z",
     "start_time": "2022-07-21T15:04:17.810926Z"
    },
    "id": "88Iw-SL3jYQV"
   },
   "outputs": [
    {
     "name": "stdout",
     "output_type": "stream",
     "text": [
      "Вероятность того, что монеты выпали разными сторонами: 0.50124\n"
     ]
    }
   ],
   "source": [
    "n = 100000\n",
    "outcomes1 = np.random.randint(0, 2, size=n)\n",
    "outcomes2 = np.random.randint(0, 2, size=n)\n",
    "result = (outcomes1 != outcomes2).sum() / n\n",
    "print(f'Вероятность того, что монеты выпали разными сторонами: {result}')"
   ]
  },
  {
   "cell_type": "markdown",
   "metadata": {
    "id": "t0XOMos2Tl0e"
   },
   "source": [
    "### Задача 2\n",
    "Брошено три монеты. Описать множество всех элементарных событий. Найти вероятности следующих событий:\n",
    "\n",
    "\n",
    "1.   A = {не выпало ни одного герба}\n",
    "2.   B = {выпало четное число гербов}\n",
    "3.   C = {на третьей монете выпал герб}\n"
   ]
  },
  {
   "cell_type": "code",
   "execution_count": 233,
   "metadata": {
    "ExecuteTime": {
     "end_time": "2022-07-23T15:13:26.869611Z",
     "start_time": "2022-07-23T15:13:26.673295Z"
    },
    "id": "o7NjAE9uUo-L"
   },
   "outputs": [
    {
     "name": "stdout",
     "output_type": "stream",
     "text": [
      "Всего элементарных исходов - 8, вероятность элементарного  исхода - 0.125\n"
     ]
    }
   ],
   "source": [
    "n = 100000\n",
    "coin1 = np.random.randint(0, 2, size=n) # 1 - орел(герб), 0 - решка\n",
    "coin2 = np.random.randint(0, 2, size=n)\n",
    "coin3 = np.random.randint(0, 2, size=n)\n",
    "print(f'Всего элементарных исходов - {2**3}, вероятность элементарного  исхода - {1/8}')\n",
    "df2 = pd.DataFrame(zip(coin1, coin2, coin3))"
   ]
  },
  {
   "cell_type": "code",
   "execution_count": 234,
   "metadata": {
    "ExecuteTime": {
     "end_time": "2022-07-23T15:13:29.475370Z",
     "start_time": "2022-07-23T15:13:29.448128Z"
    }
   },
   "outputs": [
    {
     "name": "stdout",
     "output_type": "stream",
     "text": [
      "Вероятность того, что не выпало ни одного герба - 0.1264\n",
      "Вероятность того, что выпало четное число гербов (0, 2) - 0.4998\n",
      "Вероятность того, что на третьей монете выпал герб - 0.4975\n"
     ]
    }
   ],
   "source": [
    "A = np.sum(df2.sum(axis=1) == 3) / n\n",
    "print(f'Вероятность того, что не выпало ни одного герба - {A:.4f}')\n",
    "\n",
    "B = A + np.sum(df2.sum(axis=1) == 1) / n #четное число гербов это 0 и 2\n",
    "print(f'Вероятность того, что выпало четное число гербов (0, 2) - {B:.4f}')\n",
    "\n",
    "C = np.sum(df2[2] == 0) / n\n",
    "print(f'Вероятность того, что на третьей монете выпал герб - {C:.4f}')"
   ]
  },
  {
   "cell_type": "markdown",
   "metadata": {},
   "source": [
    "Предлагается также решить задачи: \n",
    "\n",
    "### Задача 3\n",
    "Из двух претендентов E и L на ответственную должность три члена комиссии должны отобрать одного. Каждый член комиссии должен указать либо одного достойного, либо забраковать обоих. Претендент считается выбранным, если он был признана достойным хотя бы двумя членами комиссии.\n",
    "Найти вероятность событий:\n",
    "\n",
    "A = {рекомендован L}, B = {рекомендован E}\n"
   ]
  },
  {
   "cell_type": "code",
   "execution_count": 246,
   "metadata": {
    "ExecuteTime": {
     "end_time": "2022-07-23T15:18:56.543228Z",
     "start_time": "2022-07-23T15:18:56.253544Z"
    }
   },
   "outputs": [],
   "source": [
    "n = 100000\n",
    "elements = ['E', 'L', 0]\n",
    "probs = [1/3, 1/3, 1/3]\n",
    "member1 = np.random.choice(elements, p=probs, size=n)\n",
    "member2 = np.random.choice(elements, p=probs, size=n)\n",
    "member3 = np.random.choice(elements, p=probs, size=n)\n",
    "df3 = pd.DataFrame(zip(member1, member2, member3))"
   ]
  },
  {
   "cell_type": "code",
   "execution_count": 247,
   "metadata": {
    "ExecuteTime": {
     "end_time": "2022-07-23T15:18:59.181908Z",
     "start_time": "2022-07-23T15:18:59.060771Z"
    }
   },
   "outputs": [
    {
     "name": "stdout",
     "output_type": "stream",
     "text": [
      "Вероятность того, что рекомендован кандидат L - 0.2609\n",
      "Вероятность того, что рекомендован кандидат E - 0.2594\n"
     ]
    }
   ],
   "source": [
    "A3 = np.sum((df3 == 'L').sum(axis=1) > 1) / n\n",
    "print(f'Вероятность того, что рекомендован кандидат L - {A3:.4f}')\n",
    "\n",
    "B3 = np.sum((df3 == 'E').sum(axis=1) > 1) / n\n",
    "print(f'Вероятность того, что рекомендован кандидат E - {B3:.4f}')"
   ]
  },
  {
   "cell_type": "markdown",
   "metadata": {
    "id": "peM38mVfYa5B"
   },
   "source": [
    "### Задача 4\n",
    "Брошено две игральных кости. Описать множество элементарных событий. Найти вероятности событий:\n",
    "\n",
    "A = {вышло две \"шестерки\"}\n",
    "\n",
    "B = {сумма выпавших очков не меньше 11}\n",
    "\n",
    "C = {не выпала ни одна \"шестерка\"}"
   ]
  },
  {
   "cell_type": "code",
   "execution_count": 288,
   "metadata": {
    "ExecuteTime": {
     "end_time": "2022-07-23T15:43:39.895832Z",
     "start_time": "2022-07-23T15:43:39.752478Z"
    }
   },
   "outputs": [],
   "source": [
    "n = 100000\n",
    "dice1 = np.random.randint(1, 7, size=n)\n",
    "dice2 = np.random.randint(1, 7, size=n)\n",
    "df4 = pd.DataFrame(zip(dice1, dice2))"
   ]
  },
  {
   "cell_type": "code",
   "execution_count": 289,
   "metadata": {
    "ExecuteTime": {
     "end_time": "2022-07-23T15:43:44.522164Z",
     "start_time": "2022-07-23T15:43:44.495919Z"
    }
   },
   "outputs": [
    {
     "name": "stdout",
     "output_type": "stream",
     "text": [
      "Вероятность того, что вышло две \"шестерки\" - 0.0276\n",
      "Вероятность того, что сумма выпавших очков не меньше 11 - 0.0843\n",
      "Вероятность того, что не выпала ни одна \"шестерка\" - 0.6920\n"
     ]
    }
   ],
   "source": [
    "A4 = np.sum((df4 == 6).sum(axis=1) == 2) / n\n",
    "print(f'Вероятность того, что вышло две \"шестерки\" - {A4:.4f}')\n",
    "\n",
    "B4 = np.sum(df4.sum(axis=1) > 10) / n\n",
    "print(f'Вероятность того, что сумма выпавших очков не меньше 11 - {B4:.4f}')\n",
    "\n",
    "C4 = np.sum((df4 == 6).sum(axis=1) == 0) / n\n",
    "print(f'Вероятность того, что не выпала ни одна \"шестерка\" - {C4:.4f}')"
   ]
  },
  {
   "cell_type": "markdown",
   "metadata": {
    "id": "f-Bi0p8haclB"
   },
   "source": [
    "## Вероятность суммы событий"
   ]
  },
  {
   "cell_type": "markdown",
   "metadata": {
    "id": "g7A7QlvGTnwZ"
   },
   "source": [
    "### Задача 5\n",
    "Брошены две игральные кости. Найти вероятность события D = {выпала хотя бы одна шестёрка}\n"
   ]
  },
  {
   "cell_type": "code",
   "execution_count": 291,
   "metadata": {
    "ExecuteTime": {
     "end_time": "2022-07-23T15:45:55.903079Z",
     "start_time": "2022-07-23T15:45:55.876480Z"
    },
    "id": "vjtTJN-kUp9D"
   },
   "outputs": [
    {
     "name": "stdout",
     "output_type": "stream",
     "text": [
      "Вероятность того, что выпала хотя бы одна шестёрка - 0.3080\n"
     ]
    }
   ],
   "source": [
    "D5 = np.sum((df4 == 6).sum(axis=1) > 0) / n\n",
    "print(f'Вероятность того, что выпала хотя бы одна шестёрка - {D5:.4f}')"
   ]
  },
  {
   "cell_type": "markdown",
   "metadata": {
    "id": "R1bYSzQQbC6I"
   },
   "source": [
    "Предлагается также решить задачи: \n",
    "\n",
    "### Задача 6\n",
    "В телефонном номере три последние цифры стерлись. Считая, что все возможные значения стершихся цифр равновероятны, найти вероятность событий:\n",
    "\n",
    "A = {Стерлись различные цифры},\n",
    "\n",
    "B = {Стерлись одинаковые цифры},\n",
    "\n",
    "C = {Среди стершихся цифр хотя бы две совпадают},\n",
    "\n",
    "D = {Среди стершихся цифр хотя бы две различны}\n"
   ]
  },
  {
   "cell_type": "code",
   "execution_count": 375,
   "metadata": {
    "ExecuteTime": {
     "end_time": "2022-07-24T13:15:14.540710Z",
     "start_time": "2022-07-24T13:15:12.844890Z"
    }
   },
   "outputs": [
    {
     "name": "stdout",
     "output_type": "stream",
     "text": [
      "Вероятность, что среди стершихся все три различные цифры - 0.7193\n",
      "Вероятность, что среди стершихся все три одинаковые цифры - 0.0100\n",
      "Вероятность, что среди стершихся цифр хотя бы две совпадают - 0.2807\n",
      "Вероятность, что среди стершихся цифр хотя бы две различны - 0.9900\n"
     ]
    }
   ],
   "source": [
    "n = 1000000\n",
    "digit1 = np.random.randint(0, 10, size = n)\n",
    "digit2 = np.random.randint(0, 10, size = n)\n",
    "digit3 = np.random.randint(0, 10, size = n)\n",
    "df6 = pd.DataFrame(zip(digit1, digit2, digit3))\n",
    "\n",
    "A6 = np.sum((df6[0] != df6[1]) & (df6[1] != df6[2]) & (df6[0] != df6[2])) / n\n",
    "df6['A6'] = (df6[0] != df6[1]) & (df6[1] != df6[2]) & (df6[0] != df6[2])\n",
    "print(f'Вероятность, что среди стершихся все три различные цифры - {A6:.4f}')\n",
    "B6 = np.sum((df6[0] == df6[1]) & (df6[1] == df6[2])) / n\n",
    "df6['B6'] = (df6[0] == df6[1]) & (df6[1] == df6[2])\n",
    "print(f'Вероятность, что среди стершихся все три одинаковые цифры - {B6:.4f}')\n",
    "C6  = np.sum((df6[0] == df6[1]) | (df6[0] == df6[2]) | (df6[1] == df6[2])) / n\n",
    "df6['C6'] = (df6[0] == df6[1]) | (df6[0] == df6[2]) | (df6[1] == df6[2])\n",
    "print(f'Вероятность, что среди стершихся цифр хотя бы две совпадают - {C6:.4f}')\n",
    "D6 = np.sum((df6[0] != df6[1]) | (df6[0] != df6[2]) | (df6[1] != df6[2])) / n\n",
    "df6['D6'] = (df6[0] != df6[1]) | (df6[0] != df6[2]) | (df6[1] != df6[2])\n",
    "print(f'Вероятность, что среди стершихся цифр хотя бы две различны - {D6:.4f}')"
   ]
  },
  {
   "cell_type": "code",
   "execution_count": 377,
   "metadata": {
    "ExecuteTime": {
     "end_time": "2022-07-24T13:16:39.904202Z",
     "start_time": "2022-07-24T13:16:39.773584Z"
    }
   },
   "outputs": [
    {
     "data": {
      "text/html": [
       "<div>\n",
       "<style scoped>\n",
       "    .dataframe tbody tr th:only-of-type {\n",
       "        vertical-align: middle;\n",
       "    }\n",
       "\n",
       "    .dataframe tbody tr th {\n",
       "        vertical-align: top;\n",
       "    }\n",
       "\n",
       "    .dataframe thead th {\n",
       "        text-align: right;\n",
       "    }\n",
       "</style>\n",
       "<table border=\"1\" class=\"dataframe\">\n",
       "  <thead>\n",
       "    <tr style=\"text-align: right;\">\n",
       "      <th></th>\n",
       "      <th>0</th>\n",
       "      <th>1</th>\n",
       "      <th>2</th>\n",
       "      <th>A6</th>\n",
       "      <th>B6</th>\n",
       "      <th>C6</th>\n",
       "      <th>D6</th>\n",
       "    </tr>\n",
       "  </thead>\n",
       "  <tbody>\n",
       "    <tr>\n",
       "      <th>453018</th>\n",
       "      <td>5</td>\n",
       "      <td>5</td>\n",
       "      <td>2</td>\n",
       "      <td>False</td>\n",
       "      <td>False</td>\n",
       "      <td>True</td>\n",
       "      <td>True</td>\n",
       "    </tr>\n",
       "    <tr>\n",
       "      <th>128182</th>\n",
       "      <td>1</td>\n",
       "      <td>4</td>\n",
       "      <td>5</td>\n",
       "      <td>True</td>\n",
       "      <td>False</td>\n",
       "      <td>False</td>\n",
       "      <td>True</td>\n",
       "    </tr>\n",
       "    <tr>\n",
       "      <th>637394</th>\n",
       "      <td>2</td>\n",
       "      <td>8</td>\n",
       "      <td>3</td>\n",
       "      <td>True</td>\n",
       "      <td>False</td>\n",
       "      <td>False</td>\n",
       "      <td>True</td>\n",
       "    </tr>\n",
       "    <tr>\n",
       "      <th>569634</th>\n",
       "      <td>6</td>\n",
       "      <td>4</td>\n",
       "      <td>8</td>\n",
       "      <td>True</td>\n",
       "      <td>False</td>\n",
       "      <td>False</td>\n",
       "      <td>True</td>\n",
       "    </tr>\n",
       "    <tr>\n",
       "      <th>178152</th>\n",
       "      <td>1</td>\n",
       "      <td>4</td>\n",
       "      <td>2</td>\n",
       "      <td>True</td>\n",
       "      <td>False</td>\n",
       "      <td>False</td>\n",
       "      <td>True</td>\n",
       "    </tr>\n",
       "  </tbody>\n",
       "</table>\n",
       "</div>"
      ],
      "text/plain": [
       "        0  1  2     A6     B6     C6    D6\n",
       "453018  5  5  2  False  False   True  True\n",
       "128182  1  4  5   True  False  False  True\n",
       "637394  2  8  3   True  False  False  True\n",
       "569634  6  4  8   True  False  False  True\n",
       "178152  1  4  2   True  False  False  True"
      ]
     },
     "execution_count": 377,
     "metadata": {},
     "output_type": "execute_result"
    }
   ],
   "source": [
    "df6.sample(5)"
   ]
  },
  {
   "cell_type": "markdown",
   "metadata": {
    "id": "RnugkR8BalK_"
   },
   "source": [
    "## Случайные величины"
   ]
  },
  {
   "cell_type": "markdown",
   "metadata": {
    "id": "yLoZDZ17UVsp"
   },
   "source": [
    "### Задача 7\n",
    "В лотерее имеется 10 билетов, из которых один выигрышный. Размер выигрыша 10 ден. ед.; стоимость билета 1 ден ед. Найти закон распределения случайной величины X, равной чистому выигрышу участника лотереи, который вытаскивает билет первым."
   ]
  },
  {
   "cell_type": "code",
   "execution_count": 439,
   "metadata": {
    "ExecuteTime": {
     "end_time": "2022-07-24T16:14:09.800687Z",
     "start_time": "2022-07-24T16:14:09.523987Z"
    },
    "id": "oNk432sKUqzT"
   },
   "outputs": [
    {
     "data": {
      "text/plain": [
       "[]"
      ]
     },
     "execution_count": 439,
     "metadata": {},
     "output_type": "execute_result"
    },
    {
     "data": {
      "image/png": "[encoded data removed]",
      "text/plain": [
       "<Figure size 432x288 with 1 Axes>"
      ]
     },
     "metadata": {
      "needs_background": "light"
     },
     "output_type": "display_data"
    }
   ],
   "source": [
    "n = 100000\n",
    "tickets = [0]*9 + [1] # создаем массив с суммами\n",
    "#np.random.shuffle(tickets) #создаем случайный список из 10 лотерейных билетов, 1 из которых выигрышный\n",
    "\n",
    "df7 = pd.DataFrame(np.random.choice(tickets, size=n)) # n-раз вытаскиваем билет\n",
    "# df7.hist()\n",
    "# plt.title('Распределение случайной величины Х')\n",
    "# plt.xlabel('сумма выигрыша')\n",
    "# plt.ylabel('частота появления')\n",
    "# plt.show()\n",
    "\n",
    "\n",
    "bernoulli_rv = sts.bernoulli(0.1) # задаётся один параметр -- вероятность успеха\n",
    "cdf = bernoulli_rv.cdf(tickets)\n",
    "cdf\n",
    "plt.plot(tickets, cdf, color=\"darkblue\")\n",
    "plt.ylabel(\"$f(x)$\")\n",
    "plt.xlabel(\"$x$\")\n",
    "plt.plot()"
   ]
  },
  {
   "cell_type": "code",
   "execution_count": null,
   "metadata": {},
   "outputs": [],
   "source": []
  },
  {
   "cell_type": "markdown",
   "metadata": {
    "id": "U-NK9liSbpvb"
   },
   "source": [
    "Предлагается также решить задачу: \n",
    "\n",
    "### Задача 8\n",
    "Брошены две игральные кости. Найти закон распределения случайной величины $X$, равной сумме выпавших очков. Найти вероятности событий ${X <= 4}$, ${X > 4}$"
   ]
  },
  {
   "cell_type": "code",
   "execution_count": null,
   "metadata": {},
   "outputs": [],
   "source": []
  },
  {
   "cell_type": "markdown",
   "metadata": {
    "id": "shgW4D83awjK"
   },
   "source": [
    "## Условные вероятности"
   ]
  },
  {
   "cell_type": "markdown",
   "metadata": {
    "id": "Fbu1RFZwWZrk"
   },
   "source": [
    "### Задача 9\n",
    "Из колоды (36 карт) вынимают последовательно без возвращения две карты. Найти вероятность того, что первой картой была шестерка, а второй — семерка. Найти условную вероятность того же события при условии, что обе карты бубновой масти.\n"
   ]
  },
  {
   "cell_type": "code",
   "execution_count": 45,
   "metadata": {
    "ExecuteTime": {
     "end_time": "2022-07-24T17:43:45.191188Z",
     "start_time": "2022-07-24T17:43:41.461061Z"
    },
    "id": "037o56awW9-E"
   },
   "outputs": [],
   "source": [
    "n = 100000\n",
    "suits = 'cdhs'\n",
    "ranks = '6789TJQKA'\n",
    "deck = [''.join(card) for card in product(ranks, suits)] # создаем колоду из 36 карт\n",
    "# hand = np.random.choice(deck, 2, replace=False) \n",
    "hands = pd.DataFrame(np.random.choice(deck, 2, replace=False) for _ in range(n))# выбираем 2 карты без возвращения n раз"
   ]
  },
  {
   "cell_type": "code",
   "execution_count": 46,
   "metadata": {
    "ExecuteTime": {
     "end_time": "2022-07-24T17:43:51.927427Z",
     "start_time": "2022-07-24T17:43:51.892484Z"
    }
   },
   "outputs": [
    {
     "data": {
      "text/html": [
       "<div>\n",
       "<style scoped>\n",
       "    .dataframe tbody tr th:only-of-type {\n",
       "        vertical-align: middle;\n",
       "    }\n",
       "\n",
       "    .dataframe tbody tr th {\n",
       "        vertical-align: top;\n",
       "    }\n",
       "\n",
       "    .dataframe thead th {\n",
       "        text-align: right;\n",
       "    }\n",
       "</style>\n",
       "<table border=\"1\" class=\"dataframe\">\n",
       "  <thead>\n",
       "    <tr style=\"text-align: right;\">\n",
       "      <th></th>\n",
       "      <th>0</th>\n",
       "      <th>1</th>\n",
       "    </tr>\n",
       "  </thead>\n",
       "  <tbody>\n",
       "    <tr>\n",
       "      <th>0</th>\n",
       "      <td>7d</td>\n",
       "      <td>Jc</td>\n",
       "    </tr>\n",
       "    <tr>\n",
       "      <th>1</th>\n",
       "      <td>Kd</td>\n",
       "      <td>Th</td>\n",
       "    </tr>\n",
       "    <tr>\n",
       "      <th>2</th>\n",
       "      <td>Kd</td>\n",
       "      <td>6d</td>\n",
       "    </tr>\n",
       "    <tr>\n",
       "      <th>3</th>\n",
       "      <td>9s</td>\n",
       "      <td>7h</td>\n",
       "    </tr>\n",
       "    <tr>\n",
       "      <th>4</th>\n",
       "      <td>9d</td>\n",
       "      <td>Qs</td>\n",
       "    </tr>\n",
       "    <tr>\n",
       "      <th>...</th>\n",
       "      <td>...</td>\n",
       "      <td>...</td>\n",
       "    </tr>\n",
       "    <tr>\n",
       "      <th>99995</th>\n",
       "      <td>7h</td>\n",
       "      <td>Qs</td>\n",
       "    </tr>\n",
       "    <tr>\n",
       "      <th>99996</th>\n",
       "      <td>Tc</td>\n",
       "      <td>Th</td>\n",
       "    </tr>\n",
       "    <tr>\n",
       "      <th>99997</th>\n",
       "      <td>Kc</td>\n",
       "      <td>6h</td>\n",
       "    </tr>\n",
       "    <tr>\n",
       "      <th>99998</th>\n",
       "      <td>8c</td>\n",
       "      <td>Qc</td>\n",
       "    </tr>\n",
       "    <tr>\n",
       "      <th>99999</th>\n",
       "      <td>6c</td>\n",
       "      <td>Ks</td>\n",
       "    </tr>\n",
       "  </tbody>\n",
       "</table>\n",
       "<p>100000 rows × 2 columns</p>\n",
       "</div>"
      ],
      "text/plain": [
       "        0   1\n",
       "0      7d  Jc\n",
       "1      Kd  Th\n",
       "2      Kd  6d\n",
       "3      9s  7h\n",
       "4      9d  Qs\n",
       "...    ..  ..\n",
       "99995  7h  Qs\n",
       "99996  Tc  Th\n",
       "99997  Kc  6h\n",
       "99998  8c  Qc\n",
       "99999  6c  Ks\n",
       "\n",
       "[100000 rows x 2 columns]"
      ]
     },
     "execution_count": 46,
     "metadata": {},
     "output_type": "execute_result"
    }
   ],
   "source": [
    "hands"
   ]
  },
  {
   "cell_type": "markdown",
   "metadata": {
    "id": "hNVxtaz5c57b"
   },
   "source": [
    "Предлагается также решить задачу: \n",
    "\n",
    "### Задача 10\n",
    "Из урны, содержащей два белых и три черных шара, последовательно извлекают два шара; вынутые шары не возвращаются. Если первый шар оказался черным, то перед вторым извлечением в урну добавляют белый шар. В противном случае состав оставшихся шаров не меняют. Найти вероятности событий:\n",
    "\n",
    "$A$ = {извлечены два белых шара},\n",
    "\n",
    "$B$ = {извлечены два черных шара}\n",
    "\n",
    "Указание. Пусть событие $C_1$ = {первый шар белый}, событие $C_2$ = {второй шар белый}. Тогда $A = C_1C_2$, $B = \\overline C_1 \\overline C_2$ "
   ]
  },
  {
   "cell_type": "code",
   "execution_count": null,
   "metadata": {
    "id": "WSLnhk2sdBt_"
   },
   "outputs": [],
   "source": []
  }
 ],
 "metadata": {
  "colab": {
   "collapsed_sections": [],
   "name": "Практика к занятию 11.ipynb",
   "provenance": []
  },
  "kernelspec": {
   "display_name": "Python 3",
   "language": "python",
   "name": "python3"
  },
  "language_info": {
   "codemirror_mode": {
    "name": "ipython",
    "version": 3
   },
   "file_extension": ".py",
   "mimetype": "text/x-python",
   "name": "python",
   "nbconvert_exporter": "python",
   "pygments_lexer": "ipython3",
   "version": "3.8.8"
  },
  "nbTranslate": {
   "displayLangs": [
    "ru",
    "en"
   ],
   "hotkey": "alt-t",
   "langInMainMenu": true,
   "sourceLang": "en",
   "targetLang": "ru",
   "useGoogleTranslate": true
  },
  "toc": {
   "base_numbering": 1,
   "nav_menu": {},
   "number_sections": true,
   "sideBar": true,
   "skip_h1_title": false,
   "title_cell": "Table of Contents",
   "title_sidebar": "Contents",
   "toc_cell": false,
   "toc_position": {},
   "toc_section_display": true,
   "toc_window_display": false
  },
  "varInspector": {
   "cols": {
    "lenName": 16,
    "lenType": 16,
    "lenVar": 40
   },
   "kernels_config": {
    "python": {
     "delete_cmd_postfix": "",
     "delete_cmd_prefix": "del ",
     "library": "var_list.py",
     "varRefreshCmd": "print(var_dic_list())"
    },
    "r": {
     "delete_cmd_postfix": ") ",
     "delete_cmd_prefix": "rm(",
     "library": "var_list.r",
     "varRefreshCmd": "cat(var_dic_list()) "
    }
   },
   "types_to_exclude": [
    "module",
    "function",
    "builtin_function_or_method",
    "instance",
    "_Feature"
   ],
   "window_display": false
  }
 },
 "nbformat": 4,
 "nbformat_minor": 1
}
